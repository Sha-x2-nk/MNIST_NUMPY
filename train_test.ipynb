{
 "cells": [
  {
   "attachments": {},
   "cell_type": "markdown",
   "metadata": {},
   "source": [
    "LOADING DATASET"
   ]
  },
  {
   "cell_type": "markdown",
   "metadata": {},
   "source": [
    "READING MNIST DATASET"
   ]
  },
  {
   "cell_type": "code",
   "execution_count": 1,
   "metadata": {},
   "outputs": [
    {
     "name": "stdout",
     "output_type": "stream",
     "text": [
      "train_images shape: (60000, 28, 28), train_labels shape: (60000,)\n",
      "test_images shape: (10000, 28, 28), test_labels shape: (10000,)\n"
     ]
    }
   ],
   "source": [
    "import struct\n",
    "\n",
    "from jax import numpy as jnp\n",
    "import numpy as np\n",
    "\n",
    "def load_mnist_images(filename):\n",
    "    with open(filename, 'rb') as f:\n",
    "        _, num, rows, cols = struct.unpack('>IIII', f.read(16))\n",
    "        images = np.fromfile(f, dtype=np.uint8).reshape(num, rows, cols)\n",
    "    return images\n",
    "\n",
    "def load_mnist_labels(filename):\n",
    "    with open(filename, 'rb') as f:\n",
    "        _, num = struct.unpack('>II', f.read(8))\n",
    "        labels = np.fromfile(f, dtype=np.uint8)\n",
    "    return labels\n",
    "\n",
    "# Load the data\n",
    "train_images = load_mnist_images('MNIST_DATASET/train-images.idx3-ubyte')\n",
    "train_labels = load_mnist_labels('MNIST_DATASET/train-labels.idx1-ubyte')\n",
    "test_images = load_mnist_images('MNIST_DATASET/t10k-images.idx3-ubyte')\n",
    "test_labels = load_mnist_labels('MNIST_DATASET/t10k-labels.idx1-ubyte')\n",
    "\n",
    "# Check the shapes\n",
    "print(f\"train_images shape: {train_images.shape}, train_labels shape: {train_labels.shape}\")\n",
    "print(f\"test_images shape: {test_images.shape}, test_labels shape: {test_labels.shape}\")\n",
    "\n",
    "# Preparing train, test, val splits\n",
    "val_mask = np.arange(0,60000)\n",
    "np.random.shuffle(val_mask)\n",
    "val_images = train_images[val_mask[:2000]]\n",
    "val_labels = train_labels[val_mask[:2000]]\n",
    "train_images = train_images[val_mask[2000:]]\n",
    "train_labels = train_labels[val_mask[2000:]]\n",
    "\n",
    "# Converting to jax.numpy arrays\n",
    "test_images  = jnp.asarray(test_images)\n",
    "test_labels  = jnp.asarray(test_labels)\n",
    "val_images   = jnp.asarray(val_images)\n",
    "val_labels   = jnp.asarray(val_labels)\n",
    "train_images = jnp.asarray(train_images)\n",
    "train_labels = jnp.asarray(train_labels)"
   ]
  },
  {
   "cell_type": "markdown",
   "metadata": {},
   "source": [
    "Our 2 Layer NN"
   ]
  },
  {
   "cell_type": "code",
   "execution_count": 2,
   "metadata": {},
   "outputs": [],
   "source": [
    "from NN import NN\n",
    "model = NN(p_keep = 0.7315, reg = 0)"
   ]
  },
  {
   "cell_type": "markdown",
   "metadata": {},
   "source": [
    "TRAIN/TEST FUNCTIONS"
   ]
  },
  {
   "cell_type": "code",
   "execution_count": 17,
   "metadata": {},
   "outputs": [],
   "source": [
    "import math\n",
    "\n",
    "import jax\n",
    "\n",
    "def train(model, num_epochs = 1, verbose = True):\n",
    "    batch_size = 512\n",
    "    total_iters = math.ceil(len(train_labels)/batch_size)\n",
    "    train_images_loader = jnp.array_split(train_images, total_iters)\n",
    "    train_labels_loader = jnp.array_split(train_labels, total_iters)\n",
    "\n",
    "    best_model = model\n",
    "    best_acc = (0, 0)\n",
    "\n",
    "    for epoch in range(num_epochs):\n",
    "        for iter,(x_train,y_train) in enumerate(zip(train_images_loader, train_labels_loader)):\n",
    "            model.train()\n",
    "            logits, loss = model(x_train, y_train)\n",
    "            model.adamStep()\n",
    "\n",
    "            if (iter + 1) % 100 == 0:\n",
    "                train_acc = testLogits(logits, y_train)\n",
    "                val_acc = testInputs(model, val_images, val_labels)\n",
    "\n",
    "                if verbose:\n",
    "                    print(f\"epoch: {epoch+1}  iter:{iter+1}  loss:{loss:.3f}  acc: {train_acc:.2f}  val_acc: {val_acc:.2f}\")\n",
    "\n",
    "                if val_acc > best_acc[0] or (val_acc == best_acc[0] and train_acc > best_acc[1]):\n",
    "                    best_model = model\n",
    "                    best_acc = (val_acc, train_acc)\n",
    "                    if verbose:\n",
    "                        print(f'BEST VAL: {val_acc:f}  TRAIN: {train_acc}')\n",
    "\n",
    "    return best_model\n",
    "\n",
    "@jax.jit\n",
    "def testLogits(logits: jnp.ndarray, input_labels: jnp.ndarray):\n",
    "    pred_labels = np.argmax(logits, axis = 1)\n",
    "    train_acc = (pred_labels == input_labels).sum()/input_labels.shape[0]\n",
    "    return train_acc\n",
    "\n",
    "def testInputs(model: NN, input_data: jnp.ndarray, input_labels:jnp.ndarray):\n",
    "    model.eval()\n",
    "    logits = model(input_data)\n",
    "    return testLogits(logits, input_labels)"
   ]
  },
  {
   "cell_type": "code",
   "execution_count": 18,
   "metadata": {},
   "outputs": [],
   "source": [
    "def dryRun():\n",
    "    test_model = NN()\n",
    "    x_train = test_images\n",
    "    y_train = test_labels\n",
    "\n",
    "    test_model.train()\n",
    "    logits, loss = test_model(x_train, y_train)\n",
    "    test_model.adamStep()\n",
    "\n",
    "    acc = testInputs(test_model, x_train, y_train)\n",
    "    acc.block_until_ready()\n",
    "\n",
    "dryRun()"
   ]
  },
  {
   "cell_type": "code",
   "execution_count": 19,
   "metadata": {},
   "outputs": [
    {
     "name": "stdout",
     "output_type": "stream",
     "text": [
      "epoch: 1  iter:100  loss:0.093  acc: 0.99  val_acc: 0.98\n",
      "BEST VAL: 0.978000  TRAIN: 0.9940944910049438\n",
      "epoch: 2  iter:100  loss:0.075  acc: 0.99  val_acc: 0.98\n",
      "epoch: 3  iter:100  loss:-0.000  acc: 1.00  val_acc: 0.98\n",
      "epoch: 4  iter:100  loss:0.173  acc: 0.99  val_acc: 0.98\n",
      "epoch: 5  iter:100  loss:0.087  acc: 0.99  val_acc: 0.98\n"
     ]
    }
   ],
   "source": [
    "model = train(model, num_epochs = 5)"
   ]
  },
  {
   "cell_type": "code",
   "execution_count": 12,
   "metadata": {},
   "outputs": [
    {
     "name": "stdout",
     "output_type": "stream",
     "text": [
      "\n",
      "TEST ACC: 0.9771999716758728\n"
     ]
    }
   ],
   "source": [
    "test_acc = testInputs(model, test_images, test_labels)\n",
    "print(f\"\\nTEST ACC: {test_acc}\")"
   ]
  }
 ],
 "metadata": {
  "kernelspec": {
   "display_name": "dl",
   "language": "python",
   "name": "python3"
  },
  "language_info": {
   "codemirror_mode": {
    "name": "ipython",
    "version": 3
   },
   "file_extension": ".py",
   "mimetype": "text/x-python",
   "name": "python",
   "nbconvert_exporter": "python",
   "pygments_lexer": "ipython3",
   "version": "3.10.14"
  },
  "orig_nbformat": 4
 },
 "nbformat": 4,
 "nbformat_minor": 2
}
